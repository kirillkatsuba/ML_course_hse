{
 "cells": [
  {
   "cell_type": "markdown",
   "id": "79078d55",
   "metadata": {},
   "source": [
    "# Домашнее задание 1\n",
    "## Курс Машинное обучение\n",
    "## Кацуба Кирилл, БПМ213"
   ]
  },
  {
   "cell_type": "code",
   "execution_count": 1,
   "id": "761927f7",
   "metadata": {},
   "outputs": [],
   "source": [
    "from collections import defaultdict\n",
    "from math import log, prod\n",
    "import numpy as np\n",
    "import matplotlib.pyplot as plt\n",
    "import pandas as pd\n",
    "from sklearn.model_selection import train_test_split\n",
    "from sklearn.metrics import f1_score"
   ]
  },
  {
   "cell_type": "markdown",
   "id": "9ecac245",
   "metadata": {},
   "source": [
    "# Задание 1: Байесовская классификация"
   ]
  },
  {
   "cell_type": "code",
   "execution_count": 2,
   "id": "d614132c",
   "metadata": {},
   "outputs": [
    {
     "data": {
      "text/html": [
       "<div>\n",
       "<style scoped>\n",
       "    .dataframe tbody tr th:only-of-type {\n",
       "        vertical-align: middle;\n",
       "    }\n",
       "\n",
       "    .dataframe tbody tr th {\n",
       "        vertical-align: top;\n",
       "    }\n",
       "\n",
       "    .dataframe thead th {\n",
       "        text-align: right;\n",
       "    }\n",
       "</style>\n",
       "<table border=\"1\" class=\"dataframe\">\n",
       "  <thead>\n",
       "    <tr style=\"text-align: right;\">\n",
       "      <th></th>\n",
       "      <th>year</th>\n",
       "      <th>name</th>\n",
       "      <th>percent</th>\n",
       "      <th>sex</th>\n",
       "    </tr>\n",
       "  </thead>\n",
       "  <tbody>\n",
       "    <tr>\n",
       "      <th>208602</th>\n",
       "      <td>1959</td>\n",
       "      <td>Marci</td>\n",
       "      <td>0.000130</td>\n",
       "      <td>girl</td>\n",
       "    </tr>\n",
       "    <tr>\n",
       "      <th>118692</th>\n",
       "      <td>1998</td>\n",
       "      <td>Tyrek</td>\n",
       "      <td>0.000120</td>\n",
       "      <td>boy</td>\n",
       "    </tr>\n",
       "    <tr>\n",
       "      <th>117659</th>\n",
       "      <td>1997</td>\n",
       "      <td>Jean</td>\n",
       "      <td>0.000125</td>\n",
       "      <td>boy</td>\n",
       "    </tr>\n",
       "    <tr>\n",
       "      <th>144016</th>\n",
       "      <td>1895</td>\n",
       "      <td>Alice</td>\n",
       "      <td>0.009943</td>\n",
       "      <td>girl</td>\n",
       "    </tr>\n",
       "    <tr>\n",
       "      <th>20810</th>\n",
       "      <td>1900</td>\n",
       "      <td>Gregorio</td>\n",
       "      <td>0.000068</td>\n",
       "      <td>boy</td>\n",
       "    </tr>\n",
       "    <tr>\n",
       "      <th>155665</th>\n",
       "      <td>1906</td>\n",
       "      <td>Enid</td>\n",
       "      <td>0.000096</td>\n",
       "      <td>girl</td>\n",
       "    </tr>\n",
       "    <tr>\n",
       "      <th>133230</th>\n",
       "      <td>1884</td>\n",
       "      <td>Myrtie</td>\n",
       "      <td>0.000509</td>\n",
       "      <td>girl</td>\n",
       "    </tr>\n",
       "    <tr>\n",
       "      <th>83984</th>\n",
       "      <td>1963</td>\n",
       "      <td>Bertram</td>\n",
       "      <td>0.000029</td>\n",
       "      <td>boy</td>\n",
       "    </tr>\n",
       "    <tr>\n",
       "      <th>253288</th>\n",
       "      <td>2004</td>\n",
       "      <td>Nancy</td>\n",
       "      <td>0.000567</td>\n",
       "      <td>girl</td>\n",
       "    </tr>\n",
       "    <tr>\n",
       "      <th>48134</th>\n",
       "      <td>1928</td>\n",
       "      <td>Tom</td>\n",
       "      <td>0.001140</td>\n",
       "      <td>boy</td>\n",
       "    </tr>\n",
       "  </tbody>\n",
       "</table>\n",
       "</div>"
      ],
      "text/plain": [
       "        year      name   percent   sex\n",
       "208602  1959     Marci  0.000130  girl\n",
       "118692  1998     Tyrek  0.000120   boy\n",
       "117659  1997      Jean  0.000125   boy\n",
       "144016  1895     Alice  0.009943  girl\n",
       "20810   1900  Gregorio  0.000068   boy\n",
       "155665  1906      Enid  0.000096  girl\n",
       "133230  1884    Myrtie  0.000509  girl\n",
       "83984   1963   Bertram  0.000029   boy\n",
       "253288  2004     Nancy  0.000567  girl\n",
       "48134   1928       Tom  0.001140   boy"
      ]
     },
     "execution_count": 2,
     "metadata": {},
     "output_type": "execute_result"
    }
   ],
   "source": [
    "data = pd.read_csv('/Users/kirill/edu/3course/ML_MIEM/homeworks/names.csv')\n",
    "data.sample(10)"
   ]
  },
  {
   "cell_type": "code",
   "execution_count": 3,
   "id": "fec073a3",
   "metadata": {},
   "outputs": [],
   "source": [
    "X = data.drop('sex', axis=1)\n",
    "y = data.sex"
   ]
  },
  {
   "cell_type": "code",
   "execution_count": 4,
   "id": "9cb74680",
   "metadata": {},
   "outputs": [],
   "source": [
    "X_train, X_test, y_train, y_test = train_test_split(X, y, test_size=0.3, random_state=10)"
   ]
  },
  {
   "cell_type": "code",
   "execution_count": 5,
   "id": "8fccc152",
   "metadata": {},
   "outputs": [],
   "source": [
    "def train(samples):\n",
    "    \"\"\"\n",
    "    Тренируем датасет, считаем условные вероятности\n",
    "    \"\"\"\n",
    "    classes, freq = defaultdict(lambda:0), defaultdict(lambda:0)\n",
    "    for feats, label in samples:\n",
    "        classes[label] += 1                 # count classes frequencies\n",
    "        freq[label, feats] += 1          # count features frequencies\n",
    "\n",
    "    for label, feat in freq:                # normalize features frequencies\n",
    "        freq[label, feat] /= classes[label]\n",
    "    for c in classes:                       # normalize classes frequencies\n",
    "        classes[c] /= len(samples)\n",
    "    return classes, freq, len(samples)                    # return P(C) and P(O|C)\n",
    "\n",
    "def classify(classifier, name):\n",
    "    \"\"\"\n",
    "    Этап классификации, классифицируем имена по полу\n",
    "    используя наивный баесовский классификатор \n",
    "    (это немного усовершенстованный вариант, по сравнению с семинаром,\n",
    "    так как мы добавляем смешение в сторону менее вероятных событий, тем самым\n",
    "    вероятность классификации объекта, которого не было в тренировочном датасете \n",
    "    не нулевая)\n",
    "    \"\"\"\n",
    "    classes, prob, n = classifier\n",
    "    V_set = set()\n",
    "    for key in prob.keys():\n",
    "        V_set.add(key[1])\n",
    "    V = len(V_set)\n",
    "    return min(classes.keys(),              # calculate argmin(-log(P(C|O))) -> argmax(P(C|O))\n",
    "        key = lambda cl: -log(classes[cl]) \\\n",
    "               + sum(-log(((prob.get((cl,feat), 0) * n * classes[cl]) + 1) \\\n",
    "                          / (V + (n * classes[cl]))) for feat in name))\n",
    "\n",
    "def get_features(sample):\n",
    "    return (sample[-1]) # get last letter"
   ]
  },
  {
   "cell_type": "markdown",
   "id": "fbc744c8",
   "metadata": {},
   "source": [
    "Сперва будем решать задачу по предсказанию пола человека по посленей букве имени (так мы делали на семинаре)."
   ]
  },
  {
   "cell_type": "code",
   "execution_count": 6,
   "id": "a5bdcc71",
   "metadata": {},
   "outputs": [
    {
     "data": {
      "text/plain": [
       "(defaultdict(<function __main__.train.<locals>.<lambda>()>,\n",
       "             {'boy': 0.4997286821705426, 'girl': 0.5002713178294573}),\n",
       " defaultdict(<function __main__.train.<locals>.<lambda>()>,\n",
       "             {('boy', 'g'): 0.005950072575373126,\n",
       "              ('boy', 'o'): 0.06325691682086625,\n",
       "              ('girl', 'n'): 0.08087527255420647,\n",
       "              ('girl', 'a'): 0.38475245990547763,\n",
       "              ('girl', 's'): 0.022324541500182624,\n",
       "              ('girl', 'e'): 0.3004903208668607,\n",
       "              ('girl', 'h'): 0.024438566005157775,\n",
       "              ('girl', 'd'): 0.008179393241762499,\n",
       "              ('girl', 'i'): 0.028157478223333962,\n",
       "              ('boy', 'a'): 0.016287908167222524,\n",
       "              ('boy', 'e'): 0.13833641732501578,\n",
       "              ('boy', 'd'): 0.07260861375497224,\n",
       "              ('girl', 'y'): 0.07844027050659111,\n",
       "              ('boy', 'l'): 0.08209327320472903,\n",
       "              ('boy', 'n'): 0.21594220562653046,\n",
       "              ('boy', 's'): 0.0789464936676602,\n",
       "              ('girl', 'l'): 0.035362870646050315,\n",
       "              ('boy', 'k'): 0.022703349547373436,\n",
       "              ('boy', 'r'): 0.06018769875126037,\n",
       "              ('boy', 'y'): 0.11115666308406555,\n",
       "              ('boy', 'm'): 0.015789298733532037,\n",
       "              ('girl', 'r'): 0.011621600681800574,\n",
       "              ('boy', 'i'): 0.005307420416394278,\n",
       "              ('boy', 't'): 0.05277503850372849,\n",
       "              ('boy', 'h'): 0.026138214535019,\n",
       "              ('girl', 'o'): 0.005002822388737008,\n",
       "              ('boy', 'v'): 0.0005761709011534498,\n",
       "              ('boy', 'w'): 0.004398843226113838,\n",
       "              ('boy', 'x'): 0.004487484903214369,\n",
       "              ('boy', 'b'): 0.0039002337924233525,\n",
       "              ('girl', 't'): 0.011123532081151978,\n",
       "              ('boy', 'c'): 0.009329536514830861,\n",
       "              ('girl', 'z'): 0.002091888122724103,\n",
       "              ('boy', 'q'): 0.0001329625156507961,\n",
       "              ('boy', 'p'): 0.003113538908156142,\n",
       "              ('boy', 'z'): 0.0023379242335264984,\n",
       "              ('boy', 'f'): 0.0033129826816323364,\n",
       "              ('girl', 'm'): 0.002933070648263954,\n",
       "              ('girl', 'c'): 0.00034311392489125503,\n",
       "              ('girl', 'u'): 0.00180411515346047,\n",
       "              ('boy', 'u'): 0.0008420959324550421,\n",
       "              ('girl', 'k'): 0.0008965234811674728,\n",
       "              ('girl', 'w'): 0.0003763184982678281,\n",
       "              ('boy', 'j'): 8.864167710053075e-05,\n",
       "              ('girl', 'g'): 0.00047593221839754726,\n",
       "              ('girl', 'x'): 0.0001992274402594384,\n",
       "              ('girl', 'b'): 8.854552900419485e-05,\n",
       "              ('girl', 'v'): 2.213638225104871e-05}),\n",
       " 180600)"
      ]
     },
     "execution_count": 6,
     "metadata": {},
     "output_type": "execute_result"
    }
   ],
   "source": [
    "features = [(get_features(X_train.name.iloc[i]), y_train.iloc[i]) for i in range(len(X_train))]\n",
    "classifier = train(features)\n",
    "classifier"
   ]
  },
  {
   "cell_type": "markdown",
   "id": "ac3502c9",
   "metadata": {},
   "source": [
    "В двух предыдущих ячейках мы посчитали вероятности того, что последня буква имени указывает на мужской или женский пол.\n",
    "\n",
    "Теперь для каждого человека из тестовой выборки найдем пол."
   ]
  },
  {
   "cell_type": "code",
   "execution_count": 7,
   "id": "12a88e84",
   "metadata": {},
   "outputs": [
    {
     "data": {
      "text/html": [
       "<div>\n",
       "<style scoped>\n",
       "    .dataframe tbody tr th:only-of-type {\n",
       "        vertical-align: middle;\n",
       "    }\n",
       "\n",
       "    .dataframe tbody tr th {\n",
       "        vertical-align: top;\n",
       "    }\n",
       "\n",
       "    .dataframe thead th {\n",
       "        text-align: right;\n",
       "    }\n",
       "</style>\n",
       "<table border=\"1\" class=\"dataframe\">\n",
       "  <thead>\n",
       "    <tr style=\"text-align: right;\">\n",
       "      <th></th>\n",
       "      <th>year</th>\n",
       "      <th>name</th>\n",
       "      <th>percent</th>\n",
       "      <th>gender</th>\n",
       "    </tr>\n",
       "  </thead>\n",
       "  <tbody>\n",
       "    <tr>\n",
       "      <th>64309</th>\n",
       "      <td>1944</td>\n",
       "      <td>Irvin</td>\n",
       "      <td>0.000277</td>\n",
       "      <td>boy</td>\n",
       "    </tr>\n",
       "    <tr>\n",
       "      <th>144531</th>\n",
       "      <td>1895</td>\n",
       "      <td>Ethyl</td>\n",
       "      <td>0.000125</td>\n",
       "      <td>boy</td>\n",
       "    </tr>\n",
       "    <tr>\n",
       "      <th>228294</th>\n",
       "      <td>1979</td>\n",
       "      <td>Raquel</td>\n",
       "      <td>0.000470</td>\n",
       "      <td>boy</td>\n",
       "    </tr>\n",
       "    <tr>\n",
       "      <th>17988</th>\n",
       "      <td>1897</td>\n",
       "      <td>Fitzhugh</td>\n",
       "      <td>0.000049</td>\n",
       "      <td>boy</td>\n",
       "    </tr>\n",
       "    <tr>\n",
       "      <th>229815</th>\n",
       "      <td>1980</td>\n",
       "      <td>Kacey</td>\n",
       "      <td>0.000110</td>\n",
       "      <td>boy</td>\n",
       "    </tr>\n",
       "    <tr>\n",
       "      <th>173346</th>\n",
       "      <td>1924</td>\n",
       "      <td>Merle</td>\n",
       "      <td>0.000296</td>\n",
       "      <td>girl</td>\n",
       "    </tr>\n",
       "    <tr>\n",
       "      <th>237863</th>\n",
       "      <td>1988</td>\n",
       "      <td>Giselle</td>\n",
       "      <td>0.000106</td>\n",
       "      <td>girl</td>\n",
       "    </tr>\n",
       "    <tr>\n",
       "      <th>199925</th>\n",
       "      <td>1950</td>\n",
       "      <td>Juliann</td>\n",
       "      <td>0.000053</td>\n",
       "      <td>boy</td>\n",
       "    </tr>\n",
       "    <tr>\n",
       "      <th>247465</th>\n",
       "      <td>1998</td>\n",
       "      <td>Deborah</td>\n",
       "      <td>0.000286</td>\n",
       "      <td>boy</td>\n",
       "    </tr>\n",
       "    <tr>\n",
       "      <th>255511</th>\n",
       "      <td>2006</td>\n",
       "      <td>Kiersten</td>\n",
       "      <td>0.000284</td>\n",
       "      <td>boy</td>\n",
       "    </tr>\n",
       "    <tr>\n",
       "      <th>158216</th>\n",
       "      <td>1909</td>\n",
       "      <td>Faye</td>\n",
       "      <td>0.000709</td>\n",
       "      <td>girl</td>\n",
       "    </tr>\n",
       "    <tr>\n",
       "      <th>90441</th>\n",
       "      <td>1970</td>\n",
       "      <td>Dirk</td>\n",
       "      <td>0.000180</td>\n",
       "      <td>boy</td>\n",
       "    </tr>\n",
       "    <tr>\n",
       "      <th>196685</th>\n",
       "      <td>1947</td>\n",
       "      <td>Bennie</td>\n",
       "      <td>0.000083</td>\n",
       "      <td>girl</td>\n",
       "    </tr>\n",
       "    <tr>\n",
       "      <th>18866</th>\n",
       "      <td>1898</td>\n",
       "      <td>Ossie</td>\n",
       "      <td>0.000061</td>\n",
       "      <td>girl</td>\n",
       "    </tr>\n",
       "    <tr>\n",
       "      <th>154978</th>\n",
       "      <td>1905</td>\n",
       "      <td>Ellar</td>\n",
       "      <td>0.000048</td>\n",
       "      <td>boy</td>\n",
       "    </tr>\n",
       "    <tr>\n",
       "      <th>55187</th>\n",
       "      <td>1935</td>\n",
       "      <td>Alexander</td>\n",
       "      <td>0.000654</td>\n",
       "      <td>boy</td>\n",
       "    </tr>\n",
       "    <tr>\n",
       "      <th>219209</th>\n",
       "      <td>1970</td>\n",
       "      <td>Shawna</td>\n",
       "      <td>0.000820</td>\n",
       "      <td>girl</td>\n",
       "    </tr>\n",
       "    <tr>\n",
       "      <th>175373</th>\n",
       "      <td>1926</td>\n",
       "      <td>Beth</td>\n",
       "      <td>0.000268</td>\n",
       "      <td>boy</td>\n",
       "    </tr>\n",
       "    <tr>\n",
       "      <th>111931</th>\n",
       "      <td>1991</td>\n",
       "      <td>Andreas</td>\n",
       "      <td>0.000061</td>\n",
       "      <td>boy</td>\n",
       "    </tr>\n",
       "    <tr>\n",
       "      <th>28257</th>\n",
       "      <td>1908</td>\n",
       "      <td>Aubrey</td>\n",
       "      <td>0.000403</td>\n",
       "      <td>boy</td>\n",
       "    </tr>\n",
       "  </tbody>\n",
       "</table>\n",
       "</div>"
      ],
      "text/plain": [
       "        year       name   percent gender\n",
       "64309   1944      Irvin  0.000277    boy\n",
       "144531  1895      Ethyl  0.000125    boy\n",
       "228294  1979     Raquel  0.000470    boy\n",
       "17988   1897   Fitzhugh  0.000049    boy\n",
       "229815  1980      Kacey  0.000110    boy\n",
       "173346  1924      Merle  0.000296   girl\n",
       "237863  1988    Giselle  0.000106   girl\n",
       "199925  1950    Juliann  0.000053    boy\n",
       "247465  1998    Deborah  0.000286    boy\n",
       "255511  2006   Kiersten  0.000284    boy\n",
       "158216  1909       Faye  0.000709   girl\n",
       "90441   1970       Dirk  0.000180    boy\n",
       "196685  1947     Bennie  0.000083   girl\n",
       "18866   1898      Ossie  0.000061   girl\n",
       "154978  1905      Ellar  0.000048    boy\n",
       "55187   1935  Alexander  0.000654    boy\n",
       "219209  1970     Shawna  0.000820   girl\n",
       "175373  1926       Beth  0.000268    boy\n",
       "111931  1991    Andreas  0.000061    boy\n",
       "28257   1908     Aubrey  0.000403    boy"
      ]
     },
     "execution_count": 7,
     "metadata": {},
     "output_type": "execute_result"
    }
   ],
   "source": [
    "gender_test = []\n",
    "for row, item in X_test.iterrows():\n",
    "    gender_test.append(classify(classifier, get_features(item[1])))\n",
    "X_test['gender'] = gender_test\n",
    "X_test.sample(20)"
   ]
  },
  {
   "cell_type": "markdown",
   "id": "8bf94397",
   "metadata": {},
   "source": [
    "Как видим точность предсказания по последней букве составила около 77.8%"
   ]
  },
  {
   "cell_type": "code",
   "execution_count": 8,
   "id": "9ff10388",
   "metadata": {},
   "outputs": [
    {
     "name": "stdout",
     "output_type": "stream",
     "text": [
      "Средняя доля верных ответов: 0.7783850129198966\n"
     ]
    }
   ],
   "source": [
    "accuracy_last_letter = np.mean(X_test['gender'] == y_test)\n",
    "print(f\"Средняя доля верных ответов: {accuracy_last_letter}\")"
   ]
  },
  {
   "cell_type": "markdown",
   "id": "264eff03",
   "metadata": {},
   "source": [
    "Также в данном случае можно посторить $F_1$ меру. Для этого нужно посчитать полноту и точность, что позволит далее найти $F_1$ меру по формуле $F_1 = 2\\frac{precision + recall}{precision * recall}$"
   ]
  },
  {
   "cell_type": "code",
   "execution_count": 9,
   "id": "f55eda57",
   "metadata": {},
   "outputs": [
    {
     "name": "stdout",
     "output_type": "stream",
     "text": [
      " F1 = 0.7775146715624878\n"
     ]
    }
   ],
   "source": [
    "print(f\" F1 = {f1_score(y_test, X_test['gender'], average='macro')}\")"
   ]
  },
  {
   "cell_type": "markdown",
   "id": "65f6f2ef",
   "metadata": {},
   "source": [
    "Стоит отметить, что сам алгоритм по определению пола по посленей букве не является достаточно точным, все зависит от обучающей выборик: число мужских/женских имен, количество различных последних букв и так далее.\n",
    "\n",
    "Поэтому далее немного изменим подход к оцениванию пола человека. Брать имена целиком также не стоит, так как в датасете нет повторяющихся имен. Попробуем тогда брать первую букву в качестве оциниваемого признака.\n",
    "\n",
    "Но заранее стоит отметить, что выбор суммы двух или более букв будет плохим варинтом, так как в этом случае вероятность встречи этих комбинаций будет длизка к нулю, таким образом вероятность того, что алгоритм правильно определит класс к которому будет относится новая пара букв из тестовой выборки крайне мала."
   ]
  },
  {
   "cell_type": "code",
   "execution_count": 10,
   "id": "31c12433",
   "metadata": {},
   "outputs": [],
   "source": [
    "def get_features_new(sample):\n",
    "    return sample[0].lower()"
   ]
  },
  {
   "cell_type": "code",
   "execution_count": 11,
   "id": "fe55e433",
   "metadata": {},
   "outputs": [
    {
     "data": {
      "text/plain": [
       "(defaultdict(<function __main__.train.<locals>.<lambda>()>,\n",
       "             {'boy': 0.4997286821705426, 'girl': 0.5002713178294573}),\n",
       " defaultdict(<function __main__.train.<locals>.<lambda>()>,\n",
       "             {('boy', 's'): 0.04880832345347974,\n",
       "              ('boy', 'i'): 0.015988742507008234,\n",
       "              ('girl', 'r'): 0.04929772327308548,\n",
       "              ('girl', 'j'): 0.07147837828863629,\n",
       "              ('girl', 'o'): 0.01390164805365859,\n",
       "              ('girl', 'i'): 0.01987847126144174,\n",
       "              ('girl', 'f'): 0.02178220013503193,\n",
       "              ('girl', 'k'): 0.04593299317092608,\n",
       "              ('girl', 'd'): 0.05269565794862146,\n",
       "              ('girl', 'l'): 0.09083664456717838,\n",
       "              ('girl', 'c'): 0.08326600183731973,\n",
       "              ('boy', 'a'): 0.08235919823603062,\n",
       "              ('girl', 'v'): 0.026154135629614054,\n",
       "              ('girl', 's'): 0.05736643460359273,\n",
       "              ('girl', 'e'): 0.06665264695790767,\n",
       "              ('boy', 'h'): 0.03994415574342666,\n",
       "              ('girl', 'm'): 0.10236969971997477,\n",
       "              ('boy', 'n'): 0.023700568414754406,\n",
       "              ('boy', 'w'): 0.036365248030492736,\n",
       "              ('boy', 'd'): 0.07513490155233737,\n",
       "              ('boy', 'j'): 0.07698529656181095,\n",
       "              ('girl', 'n'): 0.026718613377015796,\n",
       "              ('girl', 'g'): 0.03391293760860663,\n",
       "              ('boy', 'b'): 0.060741709233138694,\n",
       "              ('boy', 'l'): 0.0593566830284429,\n",
       "              ('boy', 'v'): 0.014215908964997618,\n",
       "              ('boy', 'm'): 0.0682097705288584,\n",
       "              ('boy', 'f'): 0.02798860954449258,\n",
       "              ('boy', 'c'): 0.07329558675250136,\n",
       "              ('boy', 'e'): 0.06628181405192186,\n",
       "              ('boy', 'r'): 0.06770008088553035,\n",
       "              ('girl', 't'): 0.0348094610897741,\n",
       "              ('girl', 'z'): 0.006364209897176504,\n",
       "              ('girl', 'y'): 0.004526890170339462,\n",
       "              ('girl', 'h'): 0.024029042933513375,\n",
       "              ('girl', 'b'): 0.04120687556032718,\n",
       "              ('girl', 'a'): 0.09100266743406125,\n",
       "              ('boy', 't'): 0.039312583794085386,\n",
       "              ('boy', 'p'): 0.021828012986005695,\n",
       "              ('boy', 'g'): 0.04283609045883148,\n",
       "              ('boy', 'o'): 0.021185360827026847,\n",
       "              ('boy', 'q'): 0.0030802982792434434,\n",
       "              ('boy', 'k'): 0.027290556337325904,\n",
       "              ('girl', 'w'): 0.009839621910591153,\n",
       "              ('girl', 'p'): 0.02296649658546304,\n",
       "              ('boy', 'y'): 0.0007534542553545113,\n",
       "              ('boy', 'u'): 0.002160640879325437,\n",
       "              ('boy', 'z'): 0.0038005119056852554,\n",
       "              ('girl', 'u'): 0.0016712968599541776,\n",
       "              ('girl', 'q'): 0.0012285692149332035,\n",
       "              ('boy', 'x'): 0.0006758927878915469,\n",
       "              ('girl', 'x'): 0.00011068191125524355}),\n",
       " 180600)"
      ]
     },
     "execution_count": 11,
     "metadata": {},
     "output_type": "execute_result"
    }
   ],
   "source": [
    "X = data.drop('sex', axis=1)\n",
    "y = data.sex\n",
    "\n",
    "X_train, X_test, y_train, y_test = train_test_split(X, y, test_size=0.3, random_state=10)\n",
    "\n",
    "features = [(get_features_new(X_train.name.iloc[i]), y_train.iloc[i]) for i in range(len(X_train))]\n",
    "classifier_new = train(features)\n",
    "classifier_new"
   ]
  },
  {
   "cell_type": "code",
   "execution_count": 12,
   "id": "ba35acd3",
   "metadata": {},
   "outputs": [
    {
     "data": {
      "text/html": [
       "<div>\n",
       "<style scoped>\n",
       "    .dataframe tbody tr th:only-of-type {\n",
       "        vertical-align: middle;\n",
       "    }\n",
       "\n",
       "    .dataframe tbody tr th {\n",
       "        vertical-align: top;\n",
       "    }\n",
       "\n",
       "    .dataframe thead th {\n",
       "        text-align: right;\n",
       "    }\n",
       "</style>\n",
       "<table border=\"1\" class=\"dataframe\">\n",
       "  <thead>\n",
       "    <tr style=\"text-align: right;\">\n",
       "      <th></th>\n",
       "      <th>year</th>\n",
       "      <th>name</th>\n",
       "      <th>percent</th>\n",
       "      <th>gender</th>\n",
       "    </tr>\n",
       "  </thead>\n",
       "  <tbody>\n",
       "    <tr>\n",
       "      <th>163744</th>\n",
       "      <td>1914</td>\n",
       "      <td>Verdie</td>\n",
       "      <td>0.000075</td>\n",
       "      <td>girl</td>\n",
       "    </tr>\n",
       "    <tr>\n",
       "      <th>57911</th>\n",
       "      <td>1937</td>\n",
       "      <td>Eloy</td>\n",
       "      <td>0.000043</td>\n",
       "      <td>girl</td>\n",
       "    </tr>\n",
       "    <tr>\n",
       "      <th>98967</th>\n",
       "      <td>1978</td>\n",
       "      <td>Amanda</td>\n",
       "      <td>0.000046</td>\n",
       "      <td>girl</td>\n",
       "    </tr>\n",
       "    <tr>\n",
       "      <th>136598</th>\n",
       "      <td>1887</td>\n",
       "      <td>Huldah</td>\n",
       "      <td>0.000097</td>\n",
       "      <td>boy</td>\n",
       "    </tr>\n",
       "    <tr>\n",
       "      <th>242917</th>\n",
       "      <td>1993</td>\n",
       "      <td>Porsha</td>\n",
       "      <td>0.000106</td>\n",
       "      <td>girl</td>\n",
       "    </tr>\n",
       "    <tr>\n",
       "      <th>69902</th>\n",
       "      <td>1949</td>\n",
       "      <td>Antone</td>\n",
       "      <td>0.000032</td>\n",
       "      <td>girl</td>\n",
       "    </tr>\n",
       "    <tr>\n",
       "      <th>209949</th>\n",
       "      <td>1960</td>\n",
       "      <td>Kerrie</td>\n",
       "      <td>0.000061</td>\n",
       "      <td>girl</td>\n",
       "    </tr>\n",
       "    <tr>\n",
       "      <th>181018</th>\n",
       "      <td>1932</td>\n",
       "      <td>Frances</td>\n",
       "      <td>0.008636</td>\n",
       "      <td>boy</td>\n",
       "    </tr>\n",
       "    <tr>\n",
       "      <th>100485</th>\n",
       "      <td>1980</td>\n",
       "      <td>Jim</td>\n",
       "      <td>0.000163</td>\n",
       "      <td>boy</td>\n",
       "    </tr>\n",
       "    <tr>\n",
       "      <th>211750</th>\n",
       "      <td>1962</td>\n",
       "      <td>Staci</td>\n",
       "      <td>0.000094</td>\n",
       "      <td>girl</td>\n",
       "    </tr>\n",
       "    <tr>\n",
       "      <th>88944</th>\n",
       "      <td>1968</td>\n",
       "      <td>Lamonte</td>\n",
       "      <td>0.000034</td>\n",
       "      <td>girl</td>\n",
       "    </tr>\n",
       "    <tr>\n",
       "      <th>74774</th>\n",
       "      <td>1954</td>\n",
       "      <td>Berry</td>\n",
       "      <td>0.000041</td>\n",
       "      <td>boy</td>\n",
       "    </tr>\n",
       "    <tr>\n",
       "      <th>54045</th>\n",
       "      <td>1934</td>\n",
       "      <td>Franklin</td>\n",
       "      <td>0.003916</td>\n",
       "      <td>boy</td>\n",
       "    </tr>\n",
       "    <tr>\n",
       "      <th>74014</th>\n",
       "      <td>1954</td>\n",
       "      <td>Ronald</td>\n",
       "      <td>0.013353</td>\n",
       "      <td>boy</td>\n",
       "    </tr>\n",
       "    <tr>\n",
       "      <th>15800</th>\n",
       "      <td>1895</td>\n",
       "      <td>Andres</td>\n",
       "      <td>0.000063</td>\n",
       "      <td>girl</td>\n",
       "    </tr>\n",
       "    <tr>\n",
       "      <th>169829</th>\n",
       "      <td>1920</td>\n",
       "      <td>Pearle</td>\n",
       "      <td>0.000061</td>\n",
       "      <td>girl</td>\n",
       "    </tr>\n",
       "    <tr>\n",
       "      <th>232464</th>\n",
       "      <td>1983</td>\n",
       "      <td>Savannah</td>\n",
       "      <td>0.000243</td>\n",
       "      <td>girl</td>\n",
       "    </tr>\n",
       "    <tr>\n",
       "      <th>193797</th>\n",
       "      <td>1944</td>\n",
       "      <td>Hellen</td>\n",
       "      <td>0.000067</td>\n",
       "      <td>boy</td>\n",
       "    </tr>\n",
       "    <tr>\n",
       "      <th>119200</th>\n",
       "      <td>1999</td>\n",
       "      <td>Pedro</td>\n",
       "      <td>0.000830</td>\n",
       "      <td>girl</td>\n",
       "    </tr>\n",
       "    <tr>\n",
       "      <th>252818</th>\n",
       "      <td>2003</td>\n",
       "      <td>Kianna</td>\n",
       "      <td>0.000151</td>\n",
       "      <td>girl</td>\n",
       "    </tr>\n",
       "  </tbody>\n",
       "</table>\n",
       "</div>"
      ],
      "text/plain": [
       "        year      name   percent gender\n",
       "163744  1914    Verdie  0.000075   girl\n",
       "57911   1937      Eloy  0.000043   girl\n",
       "98967   1978    Amanda  0.000046   girl\n",
       "136598  1887    Huldah  0.000097    boy\n",
       "242917  1993    Porsha  0.000106   girl\n",
       "69902   1949    Antone  0.000032   girl\n",
       "209949  1960    Kerrie  0.000061   girl\n",
       "181018  1932   Frances  0.008636    boy\n",
       "100485  1980       Jim  0.000163    boy\n",
       "211750  1962     Staci  0.000094   girl\n",
       "88944   1968   Lamonte  0.000034   girl\n",
       "74774   1954     Berry  0.000041    boy\n",
       "54045   1934  Franklin  0.003916    boy\n",
       "74014   1954    Ronald  0.013353    boy\n",
       "15800   1895    Andres  0.000063   girl\n",
       "169829  1920    Pearle  0.000061   girl\n",
       "232464  1983  Savannah  0.000243   girl\n",
       "193797  1944    Hellen  0.000067    boy\n",
       "119200  1999     Pedro  0.000830   girl\n",
       "252818  2003    Kianna  0.000151   girl"
      ]
     },
     "execution_count": 12,
     "metadata": {},
     "output_type": "execute_result"
    }
   ],
   "source": [
    "gender_test_new = []\n",
    "for row, item in X_test.iterrows():\n",
    "    gender_test_new.append(classify(classifier_new, get_features_new(item[1])))\n",
    "X_test['gender'] = gender_test_new\n",
    "X_test.sample(20)"
   ]
  },
  {
   "cell_type": "code",
   "execution_count": 13,
   "id": "9aca90bc",
   "metadata": {},
   "outputs": [
    {
     "name": "stdout",
     "output_type": "stream",
     "text": [
      "Средняя доля верных ответов: 0.5717054263565892\n",
      " F1 = 0.5693269241676946\n"
     ]
    }
   ],
   "source": [
    "accuracy_first_letter = np.mean(X_test['gender'] == y_test)\n",
    "print(f\"Средняя доля верных ответов: {accuracy_first_letter}\")\n",
    "print(f\" F1 = {f1_score(y_test, X_test['gender'], average='macro')}\")"
   ]
  },
  {
   "cell_type": "markdown",
   "id": "61963af7",
   "metadata": {},
   "source": [
    "В качестве примера, построим такой же алгоритм для суммы двух букв (предпоследняя + последняя)"
   ]
  },
  {
   "cell_type": "code",
   "execution_count": 14,
   "id": "fc392dd0",
   "metadata": {},
   "outputs": [
    {
     "name": "stdout",
     "output_type": "stream",
     "text": [
      "Средняя доля верных ответов: 0.5006330749354005\n",
      " F1 = 0.3336145812706093\n"
     ]
    }
   ],
   "source": [
    "def get_features_new(sample):\n",
    "    return sample[-2:].lower()\n",
    "\n",
    "X = data.drop('sex', axis=1)\n",
    "y = data.sex\n",
    "\n",
    "X_train, X_test, y_train, y_test = train_test_split(X, y, test_size=0.3, random_state=10)\n",
    "\n",
    "features = [(get_features_new(X_train.name.iloc[i]), y_train.iloc[i]) for i in range(len(X_train))]\n",
    "classifier_new = train(features)\n",
    "\n",
    "gender_test_new = []\n",
    "for row, item in X_test.iterrows():\n",
    "    gender_test_new.append(classify(classifier_new, get_features_new(item[1])))\n",
    "X_test['gender'] = gender_test_new\n",
    "\n",
    "accuracy_sum_letter = np.mean(X_test['gender'] == y_test)\n",
    "print(f\"Средняя доля верных ответов: {accuracy_sum_letter}\")\n",
    "print(f\" F1 = {f1_score(y_test, X_test['gender'], average='macro')}\")"
   ]
  },
  {
   "cell_type": "markdown",
   "id": "a60bdf6d",
   "metadata": {},
   "source": [
    "Отсюда можем сделать вывод, что это наихудший вариант, так как в этом случае алгоритм угадал очень мало имен либо жеснкого, либо мужского пола. Это произошло из-за низкой веротяности встретить пару букв в каждом из классов."
   ]
  },
  {
   "cell_type": "markdown",
   "id": "93e0d524",
   "metadata": {},
   "source": [
    "## Модифицируем метод classify()"
   ]
  },
  {
   "cell_type": "code",
   "execution_count": 15,
   "id": "49e9dcf6",
   "metadata": {},
   "outputs": [],
   "source": [
    "def train(samples):\n",
    "    \"\"\"\n",
    "    Тренируем датасет, считаем условные вероятности\n",
    "    \"\"\"\n",
    "    classes, freq = defaultdict(lambda:0), defaultdict(lambda:0)\n",
    "    for feats, label in samples:\n",
    "        classes[label] += 1                 \n",
    "        freq[label, feats] += 1          \n",
    "\n",
    "    for label, feat in freq:                \n",
    "        freq[label, feat] /= classes[label]\n",
    "    for c in classes:                       \n",
    "        classes[c] /= len(samples)\n",
    "    return classes, freq, len(samples)                    \n",
    "\n",
    "def classify_simple(classifier, name):\n",
    "    \"\"\"\n",
    "    Максимизируем произведение вероятностей. Функционал такой же как и \n",
    "    у classify().\n",
    "    \"\"\"\n",
    "    classes, prob, n = classifier\n",
    "    V_set = set()\n",
    "    for key in prob.keys():\n",
    "        V_set.add(key[1])\n",
    "    V = len(V_set)\n",
    "    return max(classes.keys(),              \n",
    "        key = lambda cl: classes[cl] \n",
    "               * prod(((prob.get((cl,feat), 0) * n * classes[cl]) + 1) \\\n",
    "                          / (V + (n * classes[cl])) for feat in name))"
   ]
  },
  {
   "cell_type": "markdown",
   "id": "fb3ad227",
   "metadata": {},
   "source": [
    "Повторим самый первый пример"
   ]
  },
  {
   "cell_type": "code",
   "execution_count": 16,
   "id": "03bb3eab",
   "metadata": {},
   "outputs": [
    {
     "name": "stdout",
     "output_type": "stream",
     "text": [
      "Средняя доля верных ответов: 0.7783850129198966, совпала ли метрика с первым результатом: True\n",
      " F1 = 0.7775146715624878\n"
     ]
    }
   ],
   "source": [
    "def get_features(sample):\n",
    "    return (sample[-1]) # get last letter\n",
    "\n",
    "X = data.drop('sex', axis=1)\n",
    "y = data.sex\n",
    "\n",
    "X_train, X_test, y_train, y_test = train_test_split(X, y, test_size=0.3, random_state=10)\n",
    "\n",
    "features = [(get_features(X_train.name.iloc[i]), y_train.iloc[i]) for i in range(len(X_train))]\n",
    "classifier = train(features)\n",
    "\n",
    "gender_test = []\n",
    "for row, item in X_test.iterrows():\n",
    "    gender_test.append(classify_simple(classifier, get_features(item[1])))\n",
    "X_test['gender'] = gender_test\n",
    "\n",
    "accuracy_simple_class = np.mean(X_test['gender'] == y_test)\n",
    "print(f\"Средняя доля верных ответов: {accuracy_simple_class}, совпала ли метрика с первым результатом: {accuracy_simple_class == accuracy_last_letter}\")\n",
    "print(f\" F1 = {f1_score(y_test, X_test['gender'], average='macro')}\")"
   ]
  },
  {
   "cell_type": "markdown",
   "id": "37dbf89e",
   "metadata": {},
   "source": [
    "Как видим результаты самого первого и данного тестов совпали, так и должно быть, ведь все преобразования которые приводят из певрого случая во второй эвиваленты. Это достаточно легко показать:\n",
    "\n",
    "$ -ln(P(C)) -\\sum\\limits_{O\\in Object} ln(P(C|O)) \\rightarrow argmin_{c \\in Classes} \\implies ln(P(C)) + \\sum\\limits_{O\\in Object} ln(P(C|O)) \\rightarrow argmax_{c \\in Classes} \\implies$ (потенцируем) $ P(C) * \\Pi_{O\\in Object} P(C|O) \\rightarrow argmax_{c \\in Classes}$ "
   ]
  },
  {
   "cell_type": "markdown",
   "id": "bd25003a",
   "metadata": {},
   "source": [
    "Теперь воспользуемся гауссовским и мультиномиальным классификатором (методы из sklearn.naive_bayes). И сравним результаты.\n",
    "\n",
    "С помощью one-hot кодироваяния заменим категориальные признаки на вектора состоящие из 0 и 1."
   ]
  },
  {
   "cell_type": "code",
   "execution_count": 17,
   "id": "ede93b9e",
   "metadata": {},
   "outputs": [
    {
     "data": {
      "text/plain": [
       "array([[1., 0., 0., ..., 0., 0., 0.],\n",
       "       [1., 0., 0., ..., 0., 0., 0.],\n",
       "       [1., 0., 0., ..., 0., 0., 0.],\n",
       "       ...,\n",
       "       [0., 1., 0., ..., 0., 1., 0.],\n",
       "       [0., 1., 0., ..., 0., 0., 0.],\n",
       "       [0., 1., 1., ..., 0., 0., 0.]])"
      ]
     },
     "execution_count": 17,
     "metadata": {},
     "output_type": "execute_result"
    }
   ],
   "source": [
    "from sklearn.naive_bayes import GaussianNB, MultinomialNB\n",
    "from sklearn.preprocessing import OneHotEncoder\n",
    "data['last_letter'] = np.array([get_features(data.name.iloc[i]) for i in range(data.shape[0])])\n",
    "X = data[['sex', 'last_letter']]\n",
    "y = data[['sex']]\n",
    "enc = OneHotEncoder(handle_unknown='ignore')\n",
    "enc.fit(X[['sex', 'last_letter']])\n",
    "X_ohe = enc.transform(X[['sex', 'last_letter']]).toarray()\n",
    "X_ohe"
   ]
  },
  {
   "cell_type": "code",
   "execution_count": 18,
   "id": "9bc06df5",
   "metadata": {},
   "outputs": [
    {
     "data": {
      "text/html": [
       "<div>\n",
       "<style scoped>\n",
       "    .dataframe tbody tr th:only-of-type {\n",
       "        vertical-align: middle;\n",
       "    }\n",
       "\n",
       "    .dataframe tbody tr th {\n",
       "        vertical-align: top;\n",
       "    }\n",
       "\n",
       "    .dataframe thead th {\n",
       "        text-align: right;\n",
       "    }\n",
       "</style>\n",
       "<table border=\"1\" class=\"dataframe\">\n",
       "  <thead>\n",
       "    <tr style=\"text-align: right;\">\n",
       "      <th></th>\n",
       "      <th>year</th>\n",
       "      <th>name</th>\n",
       "      <th>percent</th>\n",
       "      <th>sex_boy</th>\n",
       "      <th>sex_girl</th>\n",
       "      <th>last_letter_a</th>\n",
       "      <th>last_letter_b</th>\n",
       "      <th>last_letter_c</th>\n",
       "      <th>last_letter_d</th>\n",
       "      <th>last_letter_e</th>\n",
       "      <th>...</th>\n",
       "      <th>last_letter_q</th>\n",
       "      <th>last_letter_r</th>\n",
       "      <th>last_letter_s</th>\n",
       "      <th>last_letter_t</th>\n",
       "      <th>last_letter_u</th>\n",
       "      <th>last_letter_v</th>\n",
       "      <th>last_letter_w</th>\n",
       "      <th>last_letter_x</th>\n",
       "      <th>last_letter_y</th>\n",
       "      <th>last_letter_z</th>\n",
       "    </tr>\n",
       "  </thead>\n",
       "  <tbody>\n",
       "    <tr>\n",
       "      <th>0</th>\n",
       "      <td>1880</td>\n",
       "      <td>John</td>\n",
       "      <td>0.081541</td>\n",
       "      <td>1</td>\n",
       "      <td>0</td>\n",
       "      <td>0</td>\n",
       "      <td>0</td>\n",
       "      <td>0</td>\n",
       "      <td>0</td>\n",
       "      <td>0</td>\n",
       "      <td>...</td>\n",
       "      <td>0</td>\n",
       "      <td>0</td>\n",
       "      <td>0</td>\n",
       "      <td>0</td>\n",
       "      <td>0</td>\n",
       "      <td>0</td>\n",
       "      <td>0</td>\n",
       "      <td>0</td>\n",
       "      <td>0</td>\n",
       "      <td>0</td>\n",
       "    </tr>\n",
       "    <tr>\n",
       "      <th>1</th>\n",
       "      <td>1880</td>\n",
       "      <td>William</td>\n",
       "      <td>0.080511</td>\n",
       "      <td>1</td>\n",
       "      <td>0</td>\n",
       "      <td>0</td>\n",
       "      <td>0</td>\n",
       "      <td>0</td>\n",
       "      <td>0</td>\n",
       "      <td>0</td>\n",
       "      <td>...</td>\n",
       "      <td>0</td>\n",
       "      <td>0</td>\n",
       "      <td>0</td>\n",
       "      <td>0</td>\n",
       "      <td>0</td>\n",
       "      <td>0</td>\n",
       "      <td>0</td>\n",
       "      <td>0</td>\n",
       "      <td>0</td>\n",
       "      <td>0</td>\n",
       "    </tr>\n",
       "    <tr>\n",
       "      <th>2</th>\n",
       "      <td>1880</td>\n",
       "      <td>James</td>\n",
       "      <td>0.050057</td>\n",
       "      <td>1</td>\n",
       "      <td>0</td>\n",
       "      <td>0</td>\n",
       "      <td>0</td>\n",
       "      <td>0</td>\n",
       "      <td>0</td>\n",
       "      <td>0</td>\n",
       "      <td>...</td>\n",
       "      <td>0</td>\n",
       "      <td>0</td>\n",
       "      <td>1</td>\n",
       "      <td>0</td>\n",
       "      <td>0</td>\n",
       "      <td>0</td>\n",
       "      <td>0</td>\n",
       "      <td>0</td>\n",
       "      <td>0</td>\n",
       "      <td>0</td>\n",
       "    </tr>\n",
       "    <tr>\n",
       "      <th>3</th>\n",
       "      <td>1880</td>\n",
       "      <td>Charles</td>\n",
       "      <td>0.045167</td>\n",
       "      <td>1</td>\n",
       "      <td>0</td>\n",
       "      <td>0</td>\n",
       "      <td>0</td>\n",
       "      <td>0</td>\n",
       "      <td>0</td>\n",
       "      <td>0</td>\n",
       "      <td>...</td>\n",
       "      <td>0</td>\n",
       "      <td>0</td>\n",
       "      <td>1</td>\n",
       "      <td>0</td>\n",
       "      <td>0</td>\n",
       "      <td>0</td>\n",
       "      <td>0</td>\n",
       "      <td>0</td>\n",
       "      <td>0</td>\n",
       "      <td>0</td>\n",
       "    </tr>\n",
       "    <tr>\n",
       "      <th>4</th>\n",
       "      <td>1880</td>\n",
       "      <td>George</td>\n",
       "      <td>0.043292</td>\n",
       "      <td>1</td>\n",
       "      <td>0</td>\n",
       "      <td>0</td>\n",
       "      <td>0</td>\n",
       "      <td>0</td>\n",
       "      <td>0</td>\n",
       "      <td>1</td>\n",
       "      <td>...</td>\n",
       "      <td>0</td>\n",
       "      <td>0</td>\n",
       "      <td>0</td>\n",
       "      <td>0</td>\n",
       "      <td>0</td>\n",
       "      <td>0</td>\n",
       "      <td>0</td>\n",
       "      <td>0</td>\n",
       "      <td>0</td>\n",
       "      <td>0</td>\n",
       "    </tr>\n",
       "    <tr>\n",
       "      <th>...</th>\n",
       "      <td>...</td>\n",
       "      <td>...</td>\n",
       "      <td>...</td>\n",
       "      <td>...</td>\n",
       "      <td>...</td>\n",
       "      <td>...</td>\n",
       "      <td>...</td>\n",
       "      <td>...</td>\n",
       "      <td>...</td>\n",
       "      <td>...</td>\n",
       "      <td>...</td>\n",
       "      <td>...</td>\n",
       "      <td>...</td>\n",
       "      <td>...</td>\n",
       "      <td>...</td>\n",
       "      <td>...</td>\n",
       "      <td>...</td>\n",
       "      <td>...</td>\n",
       "      <td>...</td>\n",
       "      <td>...</td>\n",
       "      <td>...</td>\n",
       "    </tr>\n",
       "    <tr>\n",
       "      <th>257995</th>\n",
       "      <td>2008</td>\n",
       "      <td>Carleigh</td>\n",
       "      <td>0.000128</td>\n",
       "      <td>0</td>\n",
       "      <td>1</td>\n",
       "      <td>0</td>\n",
       "      <td>0</td>\n",
       "      <td>0</td>\n",
       "      <td>0</td>\n",
       "      <td>0</td>\n",
       "      <td>...</td>\n",
       "      <td>0</td>\n",
       "      <td>0</td>\n",
       "      <td>0</td>\n",
       "      <td>0</td>\n",
       "      <td>0</td>\n",
       "      <td>0</td>\n",
       "      <td>0</td>\n",
       "      <td>0</td>\n",
       "      <td>0</td>\n",
       "      <td>0</td>\n",
       "    </tr>\n",
       "    <tr>\n",
       "      <th>257996</th>\n",
       "      <td>2008</td>\n",
       "      <td>Iyana</td>\n",
       "      <td>0.000128</td>\n",
       "      <td>0</td>\n",
       "      <td>1</td>\n",
       "      <td>1</td>\n",
       "      <td>0</td>\n",
       "      <td>0</td>\n",
       "      <td>0</td>\n",
       "      <td>0</td>\n",
       "      <td>...</td>\n",
       "      <td>0</td>\n",
       "      <td>0</td>\n",
       "      <td>0</td>\n",
       "      <td>0</td>\n",
       "      <td>0</td>\n",
       "      <td>0</td>\n",
       "      <td>0</td>\n",
       "      <td>0</td>\n",
       "      <td>0</td>\n",
       "      <td>0</td>\n",
       "    </tr>\n",
       "    <tr>\n",
       "      <th>257997</th>\n",
       "      <td>2008</td>\n",
       "      <td>Kenley</td>\n",
       "      <td>0.000127</td>\n",
       "      <td>0</td>\n",
       "      <td>1</td>\n",
       "      <td>0</td>\n",
       "      <td>0</td>\n",
       "      <td>0</td>\n",
       "      <td>0</td>\n",
       "      <td>0</td>\n",
       "      <td>...</td>\n",
       "      <td>0</td>\n",
       "      <td>0</td>\n",
       "      <td>0</td>\n",
       "      <td>0</td>\n",
       "      <td>0</td>\n",
       "      <td>0</td>\n",
       "      <td>0</td>\n",
       "      <td>0</td>\n",
       "      <td>1</td>\n",
       "      <td>0</td>\n",
       "    </tr>\n",
       "    <tr>\n",
       "      <th>257998</th>\n",
       "      <td>2008</td>\n",
       "      <td>Sloane</td>\n",
       "      <td>0.000127</td>\n",
       "      <td>0</td>\n",
       "      <td>1</td>\n",
       "      <td>0</td>\n",
       "      <td>0</td>\n",
       "      <td>0</td>\n",
       "      <td>0</td>\n",
       "      <td>1</td>\n",
       "      <td>...</td>\n",
       "      <td>0</td>\n",
       "      <td>0</td>\n",
       "      <td>0</td>\n",
       "      <td>0</td>\n",
       "      <td>0</td>\n",
       "      <td>0</td>\n",
       "      <td>0</td>\n",
       "      <td>0</td>\n",
       "      <td>0</td>\n",
       "      <td>0</td>\n",
       "    </tr>\n",
       "    <tr>\n",
       "      <th>257999</th>\n",
       "      <td>2008</td>\n",
       "      <td>Elianna</td>\n",
       "      <td>0.000127</td>\n",
       "      <td>0</td>\n",
       "      <td>1</td>\n",
       "      <td>1</td>\n",
       "      <td>0</td>\n",
       "      <td>0</td>\n",
       "      <td>0</td>\n",
       "      <td>0</td>\n",
       "      <td>...</td>\n",
       "      <td>0</td>\n",
       "      <td>0</td>\n",
       "      <td>0</td>\n",
       "      <td>0</td>\n",
       "      <td>0</td>\n",
       "      <td>0</td>\n",
       "      <td>0</td>\n",
       "      <td>0</td>\n",
       "      <td>0</td>\n",
       "      <td>0</td>\n",
       "    </tr>\n",
       "  </tbody>\n",
       "</table>\n",
       "<p>258000 rows × 31 columns</p>\n",
       "</div>"
      ],
      "text/plain": [
       "        year      name   percent  sex_boy  sex_girl  last_letter_a  \\\n",
       "0       1880      John  0.081541        1         0              0   \n",
       "1       1880   William  0.080511        1         0              0   \n",
       "2       1880     James  0.050057        1         0              0   \n",
       "3       1880   Charles  0.045167        1         0              0   \n",
       "4       1880    George  0.043292        1         0              0   \n",
       "...      ...       ...       ...      ...       ...            ...   \n",
       "257995  2008  Carleigh  0.000128        0         1              0   \n",
       "257996  2008     Iyana  0.000128        0         1              1   \n",
       "257997  2008    Kenley  0.000127        0         1              0   \n",
       "257998  2008    Sloane  0.000127        0         1              0   \n",
       "257999  2008   Elianna  0.000127        0         1              1   \n",
       "\n",
       "        last_letter_b  last_letter_c  last_letter_d  last_letter_e  ...  \\\n",
       "0                   0              0              0              0  ...   \n",
       "1                   0              0              0              0  ...   \n",
       "2                   0              0              0              0  ...   \n",
       "3                   0              0              0              0  ...   \n",
       "4                   0              0              0              1  ...   \n",
       "...               ...            ...            ...            ...  ...   \n",
       "257995              0              0              0              0  ...   \n",
       "257996              0              0              0              0  ...   \n",
       "257997              0              0              0              0  ...   \n",
       "257998              0              0              0              1  ...   \n",
       "257999              0              0              0              0  ...   \n",
       "\n",
       "        last_letter_q  last_letter_r  last_letter_s  last_letter_t  \\\n",
       "0                   0              0              0              0   \n",
       "1                   0              0              0              0   \n",
       "2                   0              0              1              0   \n",
       "3                   0              0              1              0   \n",
       "4                   0              0              0              0   \n",
       "...               ...            ...            ...            ...   \n",
       "257995              0              0              0              0   \n",
       "257996              0              0              0              0   \n",
       "257997              0              0              0              0   \n",
       "257998              0              0              0              0   \n",
       "257999              0              0              0              0   \n",
       "\n",
       "        last_letter_u  last_letter_v  last_letter_w  last_letter_x  \\\n",
       "0                   0              0              0              0   \n",
       "1                   0              0              0              0   \n",
       "2                   0              0              0              0   \n",
       "3                   0              0              0              0   \n",
       "4                   0              0              0              0   \n",
       "...               ...            ...            ...            ...   \n",
       "257995              0              0              0              0   \n",
       "257996              0              0              0              0   \n",
       "257997              0              0              0              0   \n",
       "257998              0              0              0              0   \n",
       "257999              0              0              0              0   \n",
       "\n",
       "        last_letter_y  last_letter_z  \n",
       "0                   0              0  \n",
       "1                   0              0  \n",
       "2                   0              0  \n",
       "3                   0              0  \n",
       "4                   0              0  \n",
       "...               ...            ...  \n",
       "257995              0              0  \n",
       "257996              0              0  \n",
       "257997              1              0  \n",
       "257998              0              0  \n",
       "257999              0              0  \n",
       "\n",
       "[258000 rows x 31 columns]"
      ]
     },
     "execution_count": 18,
     "metadata": {},
     "output_type": "execute_result"
    }
   ],
   "source": [
    "one_hot_encoded_data = pd.get_dummies(data, columns = ['sex', 'last_letter']) \n",
    "one_hot_encoded_data"
   ]
  },
  {
   "cell_type": "code",
   "execution_count": 19,
   "id": "c2461c3a",
   "metadata": {},
   "outputs": [
    {
     "name": "stdout",
     "output_type": "stream",
     "text": [
      "Гауссовский классификатор из sklearn показал следующие результаты: \n",
      "Средняя доля верных ответов: 0.5968087855297157\n",
      " F1 = 0.5272850685057378\n"
     ]
    }
   ],
   "source": [
    "X = one_hot_encoded_data.drop(['year', 'name', 'percent', 'sex_boy', 'sex_girl'], axis=1)\n",
    "y = one_hot_encoded_data.sex_boy\n",
    "X_train, X_test, y_train, y_test = train_test_split(X, y, test_size=0.3, random_state=10)\n",
    "model = GaussianNB().fit(X_train, y_train)\n",
    "y_pred = model.predict(X_test)\n",
    "print('Гауссовский классификатор из sklearn показал следующие результаты: ')\n",
    "print(f'Средняя доля верных ответов: {np.mean(y_pred == y_test)}')\n",
    "print(f\" F1 = {f1_score(y_test, y_pred, average='macro')}\")"
   ]
  },
  {
   "cell_type": "code",
   "execution_count": 20,
   "id": "76331ae1",
   "metadata": {},
   "outputs": [
    {
     "name": "stdout",
     "output_type": "stream",
     "text": [
      "Мультиномиальный классификатор из sklearn показал следующие результаты: \n",
      "Средняя доля верных ответов: 0.7783850129198966\n",
      " F1 = 0.7775146715624878\n"
     ]
    }
   ],
   "source": [
    "model = MultinomialNB().fit(X_train, y_train)\n",
    "y_pred = model.predict(X_test)\n",
    "accuracy_GaussianNB = np.mean(y_pred == y_test)\n",
    "print('Мультиномиальный классификатор из sklearn показал следующие результаты: ')\n",
    "print(f'Средняя доля верных ответов: {np.mean(y_pred == y_test)}')\n",
    "print(f\" F1 = {f1_score(y_test, y_pred, average='macro')}\")"
   ]
  },
  {
   "cell_type": "markdown",
   "id": "5d171b4a",
   "metadata": {},
   "source": [
    "Как видим наиболее эффективным оказались мультиномиальный и наивный баесовский классификаторы. Оба метода показали среднюю долю угаданных ответов в 77.8%"
   ]
  },
  {
   "cell_type": "markdown",
   "id": "1facee53",
   "metadata": {},
   "source": [
    "# Задание 2: Классификация ирисов"
   ]
  },
  {
   "cell_type": "code",
   "execution_count": 21,
   "id": "4df56cf8",
   "metadata": {},
   "outputs": [],
   "source": [
    "from sklearn.datasets import load_iris\n",
    "iris = load_iris()\n",
    "X = iris.data\n",
    "y = iris.target\n",
    "X_train, X_test, y_train, y_test = train_test_split(X, y, test_size=0.3, random_state=10)"
   ]
  },
  {
   "cell_type": "code",
   "execution_count": 22,
   "id": "61c48994",
   "metadata": {},
   "outputs": [
    {
     "name": "stdout",
     "output_type": "stream",
     "text": [
      "Средняя доля верных ответов: 1.0\n",
      " F1 = 1.0\n"
     ]
    }
   ],
   "source": [
    "# теперь используем LDA из sklearn, чтобы классифицировать ирисы по классам, \n",
    "# применяя кроссвалидацию\n",
    "from sklearn.discriminant_analysis import LinearDiscriminantAnalysis\n",
    "from sklearn.model_selection import cross_val_score\n",
    "\n",
    "clf = LinearDiscriminantAnalysis()\n",
    "clf.fit(X_train, y_train)\n",
    "y_pred = clf.predict(X_test)\n",
    "print(f\"Средняя доля верных ответов: {np.mean(y_pred == y_test)}\")\n",
    "print(f\" F1 = {f1_score(y_test, y_pred, average='macro')}\")"
   ]
  },
  {
   "cell_type": "markdown",
   "id": "a04193b9",
   "metadata": {},
   "source": [
    "Как видим модель определяет сорт ириса с очень высокой точностью, тогда для более правильного результата обратимся к кроссвалидации для того, чтобы лучше понимать как ведет себя построенная модель."
   ]
  },
  {
   "cell_type": "code",
   "execution_count": 23,
   "id": "c62f1cdb",
   "metadata": {},
   "outputs": [
    {
     "name": "stdout",
     "output_type": "stream",
     "text": [
      "С помощью кроссвалидации была получена следующая точность: 0.9799075391180655\n"
     ]
    }
   ],
   "source": [
    "scores = cross_val_score(clf, X, y, cv=4)\n",
    "print(f\"С помощью кроссвалидации была получена следующая точность: {np.mean(scores)}\")"
   ]
  },
  {
   "cell_type": "markdown",
   "id": "9ec1f1e3",
   "metadata": {},
   "source": [
    "Теперь обратимся к функции LDA_dimensionality(), написанной на семинаре. С ее помощью мы искали матрицу, которую преобразовывала исходную систему координат (в задаче с ирисами мы находимся к 4-ех мерном прострастве) так, чтобы уменьшалась размерность пространства и мы могли легче классифицировать ирисы."
   ]
  },
  {
   "cell_type": "code",
   "execution_count": 24,
   "id": "f5482474",
   "metadata": {},
   "outputs": [],
   "source": [
    "# функция по уменьшению размерности написанная на семинаре\n",
    "def LDA_dimensionality(X, y, k):\n",
    "    '''\n",
    "    X - набор данных, y - метка, k - целевой размер\n",
    "    '''\n",
    "    label_ = list(set(y))\n",
    "\n",
    "    X_classify = {}\n",
    "\n",
    "    for label in label_:\n",
    "        X1 = np.array([X[i] for i in range(len(X)) if y[i] == label])\n",
    "        X_classify[label] = X1\n",
    "\n",
    "    mju = np.mean(X, axis=0)\n",
    "    mju_classify = {}\n",
    "\n",
    "    for label in label_:\n",
    "        mju1 = np.mean(X_classify[label], axis=0)\n",
    "        mju_classify[label] = mju1\n",
    "\n",
    "    Sw = np.zeros((len(mju), len(mju)))  # Вычислить матрицу внутриклассовой дивергенции\n",
    "    for i in label_:\n",
    "        Sw += np.dot((X_classify[i] - mju_classify[i]).T,\n",
    "                     X_classify[i] - mju_classify[i])\n",
    "\n",
    "    Sb = np.zeros((len(mju), len(mju)))  # Вычислить матрицу внутриклассовой дивергенции\n",
    "    for i in label_:\n",
    "        Sb += len(X_classify[i]) * np.dot((mju_classify[i] - mju).reshape(\n",
    "            (len(mju), 1)), (mju_classify[i] - mju).reshape((1, len(mju))))\n",
    "\n",
    "    eig_vals, eig_vecs = np.linalg.eig(\n",
    "        np.linalg.inv(Sw).dot(Sb))  # Вычислить собственное значение и собственную матрицу Sw-1 * Sb\n",
    "\n",
    "    sorted_indices = np.argsort(eig_vals)\n",
    "    topk_eig_vecs = eig_vecs[:, sorted_indices[:-k - 1:-1]]  # Извлекаем первые k векторов признаков\n",
    "    return topk_eig_vecs"
   ]
  },
  {
   "cell_type": "markdown",
   "id": "30896163",
   "metadata": {},
   "source": [
    "Пример работы функции"
   ]
  },
  {
   "cell_type": "code",
   "execution_count": 25,
   "id": "cf6899d2",
   "metadata": {},
   "outputs": [
    {
     "data": {
      "image/png": "[encoded data removed]",
      "text/plain": [
       "<Figure size 640x480 with 1 Axes>"
      ]
     },
     "metadata": {},
     "output_type": "display_data"
    },
    {
     "data": {
      "image/png": "[encoded data removed]",
      "text/plain": [
       "<Figure size 640x480 with 1 Axes>"
      ]
     },
     "metadata": {},
     "output_type": "display_data"
    }
   ],
   "source": [
    "plt.scatter(X[:, 0], X[:, 1], marker='o', c=y)\n",
    "plt.title(\"Классы ирисов в зависисмости от двух показателей\")\n",
    "plt.show()\n",
    "\n",
    "W = LDA_dimensionality(X, y, 2)\n",
    "X_new = np.dot((X), W)\n",
    "plt.scatter(X_new[:, 0], X_new[:, 1], marker='o', c=y)\n",
    "plt.title(\"Классы ирисов в зависисмости от двух показателей (после применения LDA)\")\n",
    "plt.show()"
   ]
  },
  {
   "cell_type": "markdown",
   "id": "d42709fe",
   "metadata": {},
   "source": [
    "Получаем, два графика, показывающие как работает LDA. Мы уменьшили размерность, тем самым разбили все типы ириса по кслассам. "
   ]
  },
  {
   "cell_type": "markdown",
   "id": "c0b5cc2c",
   "metadata": {},
   "source": [
    "Далее воспользуемся любым классификатором (например встроенным в sklearn kNN) чтобы разбить выборку (с уменьшенной размерностью) на классы и сравним полученные результаты."
   ]
  },
  {
   "cell_type": "code",
   "execution_count": 26,
   "id": "fde3a3f5",
   "metadata": {},
   "outputs": [
    {
     "name": "stdout",
     "output_type": "stream",
     "text": [
      "Средняя доля верных ответов: 0.9777777777777777\n",
      " F1 = 0.9784047370254267\n"
     ]
    }
   ],
   "source": [
    "from sklearn.neighbors import KNeighborsClassifier\n",
    "\n",
    "X_train, X_test, y_train, y_test = train_test_split(X_new, y, test_size=0.3, random_state=10)\n",
    "clf = KNeighborsClassifier(n_neighbors=5)\n",
    "clf.fit(X_train, y_train)\n",
    "y_pred = clf.predict(X_test)\n",
    "print(f\"Средняя доля верных ответов: {np.mean(y_pred == y_test)}\")\n",
    "print(f\" F1 = {f1_score(y_test, y_pred, average='macro')}\")"
   ]
  },
  {
   "cell_type": "markdown",
   "id": "20eabd68",
   "metadata": {},
   "source": [
    "Как видим предсказание с помощью kNN сорта ириса на уменьшенной размерности имеет схожую, со встроенным в sklearn LDA, точность полученную на кроссвалидации."
   ]
  },
  {
   "cell_type": "code",
   "execution_count": 27,
   "id": "202c765d",
   "metadata": {},
   "outputs": [
    {
     "name": "stdout",
     "output_type": "stream",
     "text": [
      "С помощью кроссвалидации была получена следующая точность: 0.9799075391180655\n"
     ]
    }
   ],
   "source": [
    "clf = LinearDiscriminantAnalysis()\n",
    "scores = cross_val_score(clf, X_new, y, cv=4)\n",
    "print(f\"С помощью кроссвалидации была получена следующая точность: {np.mean(scores)}\")"
   ]
  },
  {
   "cell_type": "markdown",
   "id": "e85bf077",
   "metadata": {},
   "source": [
    "Как видим на уменьшенной размерности результаты LDA на кроссвалидации совпали с результатами LDA для полной задачи.\n",
    "\n",
    "Теперь с помощью метода transform() преобразуем матрицу исходных признаков и постороим график."
   ]
  },
  {
   "cell_type": "code",
   "execution_count": 28,
   "id": "9357d6a9",
   "metadata": {},
   "outputs": [
    {
     "data": {
      "image/png": "[encoded data removed]",
      "text/plain": [
       "<Figure size 640x480 with 1 Axes>"
      ]
     },
     "metadata": {},
     "output_type": "display_data"
    },
    {
     "data": {
      "image/png": "[encoded data removed]",
      "text/plain": [
       "<Figure size 640x480 with 1 Axes>"
      ]
     },
     "metadata": {},
     "output_type": "display_data"
    }
   ],
   "source": [
    "X = iris.data\n",
    "y = iris.target\n",
    "X_train, X_test, y_train, y_test = train_test_split(X, y, test_size=0.3, random_state=10)\n",
    "\n",
    "clf = LinearDiscriminantAnalysis(solver='svd')\n",
    "clf.fit(X_train, y_train)\n",
    "X_lda = clf.transform(X)\n",
    "plt.scatter(X_lda[:, 0], X_lda[:, 1], marker='o', c=y)\n",
    "plt.title(\"Классы ирисов в зависисмости от двух показателей (после применения LDA, solver = svd)\")\n",
    "plt.show()\n",
    "\n",
    "clf = LinearDiscriminantAnalysis(solver='eigen')\n",
    "clf.fit(X_train, y_train)\n",
    "X_lda = clf.transform(X)\n",
    "plt.scatter(X_lda[:, 0], X_lda[:, 1], marker='o', c=y)\n",
    "plt.title(\"Классы ирисов в зависисмости от двух показателей (после применения LDA, solver = eigen)\")\n",
    "plt.show()"
   ]
  },
  {
   "cell_type": "markdown",
   "id": "ba590de4",
   "metadata": {},
   "source": [
    "Графики полученные с помощью LDA из sklearn немного отличаются от преобразования, полученного на семинаре, но стоит отметить, что они очень схожи, во всех случаях заметно четкое разбиение на классы."
   ]
  },
  {
   "cell_type": "markdown",
   "id": "9b6c7f8a",
   "metadata": {},
   "source": [
    "Теперь обратимся к доументации, бдуем менять аргументы классификатора LDA. Проследим какой из них будет лучше/хуже сказываться на предсказаниях модели.\n",
    "\n",
    "Будем менять один параметр: solver. Остальные параметры по умолчанию стоят None или False, единтсвенный числовой паремтр tol = 1e-4. Данные параметры либо подбираются автоматически по обучающей выборке (n_components, priors). Оставшиеся 3 параметра должны выставляться в зависимости от метода solver или shrinkage. Поэтому подбор параметров будет происходить только для solver."
   ]
  },
  {
   "cell_type": "code",
   "execution_count": 29,
   "id": "1c30a443",
   "metadata": {},
   "outputs": [
    {
     "name": "stdout",
     "output_type": "stream",
     "text": [
      "solver = svd: \n",
      "Mean: 1.0\n",
      " F1 = 1.0\n",
      "\n",
      "solver = lsqr: \n",
      "Mean: 1.0\n",
      " F1 = 1.0\n",
      "\n",
      "solver = eigen: \n",
      "Mean: 1.0\n",
      " F1 = 1.0\n",
      "\n"
     ]
    }
   ],
   "source": [
    "X_train, X_test, y_train, y_test = train_test_split(X, y, test_size=0.3, random_state=10)\n",
    "\n",
    "solver_list = ['svd', 'lsqr', 'eigen']\n",
    "for solver in solver_list:\n",
    "    clf = LinearDiscriminantAnalysis(solver=solver)\n",
    "    clf.fit(X_train, y_train)\n",
    "    y_pred = clf.predict(X_test)\n",
    "    print(f'solver = {solver}: ')\n",
    "    print(f\"Mean: {np.mean(y_pred == y_test)}\")\n",
    "    print(f\" F1 = {f1_score(y_test, y_pred, average='macro')}\\n\")"
   ]
  },
  {
   "cell_type": "markdown",
   "id": "a4369e94",
   "metadata": {},
   "source": [
    "Теперь проверим, как работает классификатор на разных параметрах при кроссвалидации."
   ]
  },
  {
   "cell_type": "code",
   "execution_count": 30,
   "id": "b9b94feb",
   "metadata": {},
   "outputs": [
    {
     "name": "stdout",
     "output_type": "stream",
     "text": [
      "solver = svd: \n",
      "CV: 0.9799075391180655\n",
      "\n",
      "solver = lsqr: \n",
      "CV: 0.9799075391180655\n",
      "\n",
      "solver = eigen: \n",
      "CV: 0.9799075391180655\n",
      "\n"
     ]
    }
   ],
   "source": [
    "solver_list = ['svd', 'lsqr', 'eigen']\n",
    "for solver in solver_list:\n",
    "    clf = LinearDiscriminantAnalysis(solver=solver)\n",
    "    scores = cross_val_score(clf, X, y, cv=4)\n",
    "    print(f'solver = {solver}: ')\n",
    "    print(f\"CV: {np.mean(scores)}\\n\")"
   ]
  },
  {
   "cell_type": "markdown",
   "id": "b72d9571",
   "metadata": {},
   "source": [
    "Стоит отметить, что построенные графики, показывающие преобразованный вектор признаков, отражают, что во многом работа классификатора на разных параметров solver должны быть одинаковыми.\n",
    "\n",
    "Например, на графиках видно, что значения на абсциссе и ординате могут быть различными, но тем не менее разбиение на классы одинаково."
   ]
  },
  {
   "cell_type": "markdown",
   "id": "30c02962",
   "metadata": {},
   "source": [
    "Скорее всего из-за относительно небольшой размерности задачи изменение параметров не дало значительных изменений в задаче. Различия состоят в преобразовании признаков (разные значения на абсциссе и ординате). В остальном разделение на классы такое же."
   ]
  },
  {
   "cell_type": "markdown",
   "id": "297852ed",
   "metadata": {},
   "source": [
    "# Задание 3: kNN"
   ]
  },
  {
   "cell_type": "code",
   "execution_count": 31,
   "id": "7d987b31",
   "metadata": {},
   "outputs": [
    {
     "data": {
      "text/plain": [
       "array([[1.423e+01, 1.710e+00, 2.430e+00, ..., 1.040e+00, 3.920e+00,\n",
       "        1.065e+03],\n",
       "       [1.320e+01, 1.780e+00, 2.140e+00, ..., 1.050e+00, 3.400e+00,\n",
       "        1.050e+03],\n",
       "       [1.316e+01, 2.360e+00, 2.670e+00, ..., 1.030e+00, 3.170e+00,\n",
       "        1.185e+03],\n",
       "       ...,\n",
       "       [1.327e+01, 4.280e+00, 2.260e+00, ..., 5.900e-01, 1.560e+00,\n",
       "        8.350e+02],\n",
       "       [1.317e+01, 2.590e+00, 2.370e+00, ..., 6.000e-01, 1.620e+00,\n",
       "        8.400e+02],\n",
       "       [1.413e+01, 4.100e+00, 2.740e+00, ..., 6.100e-01, 1.600e+00,\n",
       "        5.600e+02]])"
      ]
     },
     "execution_count": 31,
     "metadata": {},
     "output_type": "execute_result"
    }
   ],
   "source": [
    "from sklearn.datasets import load_wine\n",
    "from sklearn.model_selection import StratifiedKFold, LeaveOneOut, KFold\n",
    "from sklearn.metrics import accuracy_score\n",
    "wine = load_wine()\n",
    "X = wine.data\n",
    "y = wine.target\n",
    "X"
   ]
  },
  {
   "cell_type": "markdown",
   "id": "8d7943ea",
   "metadata": {},
   "source": [
    "# KFold "
   ]
  },
  {
   "cell_type": "code",
   "execution_count": 32,
   "id": "067bd4d0",
   "metadata": {},
   "outputs": [
    {
     "name": "stdout",
     "output_type": "stream",
     "text": [
      "Наилучшая точность кроссвалидации Kfold при k = 1, accuracy = 0.7304761904761905\n"
     ]
    }
   ],
   "source": [
    "kfold_list = []\n",
    "kfold_cv = KFold(n_splits=5, random_state=42, shuffle=True)\n",
    "for k in range(1, 51):\n",
    "    model = KNeighborsClassifier(n_neighbors=k)\n",
    "    scores = cross_val_score(model, X, y, cv=kfold_cv)\n",
    "    kfold_list.append(np.mean(scores))\n",
    "print(f'Наилучшая точность кроссвалидации Kfold при k = {np.argmax(kfold_list) + 1}, accuracy = {np.max(kfold_list)}')"
   ]
  },
  {
   "cell_type": "code",
   "execution_count": 33,
   "id": "69201912",
   "metadata": {},
   "outputs": [
    {
     "name": "stdout",
     "output_type": "stream",
     "text": [
      "Наилучшая точность кроссвалидации Kfold при k = 1, accuracy = 0.7304761904761905\n"
     ]
    }
   ],
   "source": [
    "kfold_list = []\n",
    "kfold_cv = KFold(n_splits=5, random_state=42, shuffle=True)\n",
    "for k in range(1, 51):\n",
    "    correct = 0\n",
    "    total = 0\n",
    "    arr_ans = []\n",
    "    for train_indices, test_indices in kfold_cv.split(X):\n",
    "        X_train, X_test, y_train, y_test = X[train_indices], X[test_indices], \\\n",
    "                                            y[train_indices], y[test_indices]\n",
    "        model = KNeighborsClassifier(n_neighbors=k).fit(X_train, y_train)\n",
    "        y_pred = model.predict(X_test)\n",
    "        arr_ans.append(np.mean(y_pred == y_test))\n",
    "    kfold_list.append(np.mean(arr_ans))\n",
    "print(f'Наилучшая точность кроссвалидации Kfold при k = {np.argmax(kfold_list) + 1}, accuracy = {np.max(kfold_list)}')"
   ]
  },
  {
   "cell_type": "markdown",
   "id": "685ebc48",
   "metadata": {},
   "source": [
    "# Leave One Out"
   ]
  },
  {
   "cell_type": "code",
   "execution_count": 34,
   "id": "1a939e7e",
   "metadata": {},
   "outputs": [
    {
     "name": "stdout",
     "output_type": "stream",
     "text": [
      "Наилучшая точность кроссвалидации LeaveOneOut при k = 1, accuracy = 0.7696629213483146\n"
     ]
    }
   ],
   "source": [
    "loocv_list = []\n",
    "loocv = LeaveOneOut()\n",
    "for k in range(1, 51):\n",
    "    model = KNeighborsClassifier(n_neighbors=k)\n",
    "    scores = cross_val_score(model, X, y, cv=loocv)\n",
    "    loocv_list.append(np.mean(scores))\n",
    "print(f'Наилучшая точность кроссвалидации LeaveOneOut при k = {np.argmax(loocv_list) + 1}, accuracy = {np.max(loocv_list)}')"
   ]
  },
  {
   "cell_type": "code",
   "execution_count": 47,
   "id": "0c317753",
   "metadata": {},
   "outputs": [
    {
     "name": "stdout",
     "output_type": "stream",
     "text": [
      "Наилучшая точность кроссвалидации LeaveOneOut при k = 1, accuracy = 0.7696629213483146\n"
     ]
    }
   ],
   "source": [
    "loocv_list = []\n",
    "loocv = LeaveOneOut()\n",
    "for k in range(1, 51):\n",
    "    correct = 0\n",
    "    total = 0\n",
    "    arr_ans = []\n",
    "    for train_indices, test_indices in loocv.split(X):\n",
    "        X_train, X_test, y_train, y_test = X[train_indices], X[test_indices], \\\n",
    "                                            y[train_indices], y[test_indices]\n",
    "        model = KNeighborsClassifier(n_neighbors=k).fit(X_train, y_train)\n",
    "        y_pred = model.predict(X_test)\n",
    "        arr_ans.append(np.mean(y_pred == y_test))\n",
    "    loocv_list.append(np.mean(arr_ans))\n",
    "print(f'Наилучшая точность кроссвалидации LeaveOneOut при k = {np.argmax(loocv_list) + 1}, accuracy = {np.max(loocv_list)}')"
   ]
  },
  {
   "cell_type": "markdown",
   "id": "27554ece",
   "metadata": {},
   "source": [
    "# Stratified KFold"
   ]
  },
  {
   "cell_type": "code",
   "execution_count": 36,
   "id": "5aaffc5b",
   "metadata": {},
   "outputs": [
    {
     "name": "stdout",
     "output_type": "stream",
     "text": [
      "Наилучшая точность кроссвалидации StratifiedKFold при k = 1, accuracy = 0.7185714285714285\n"
     ]
    }
   ],
   "source": [
    "strKfold_list = []\n",
    "strKfold = StratifiedKFold(n_splits=5, random_state=42, shuffle=True)\n",
    "for k in range(1, 51):\n",
    "    model = KNeighborsClassifier(n_neighbors=k)\n",
    "    scores = cross_val_score(model, X, y, cv=strKfold)\n",
    "    strKfold_list.append(np.mean(scores))\n",
    "print(f'Наилучшая точность кроссвалидации StratifiedKFold при k = {np.argmax(strKfold_list) + 1}, accuracy = {np.max(strKfold_list)}')"
   ]
  },
  {
   "cell_type": "code",
   "execution_count": 37,
   "id": "585a5b4b",
   "metadata": {},
   "outputs": [
    {
     "name": "stdout",
     "output_type": "stream",
     "text": [
      "Наилучшая точность кроссвалидации StratifiedKFold при k = 1, accuracy = 0.7185714285714285\n"
     ]
    }
   ],
   "source": [
    "strKfold_list = []\n",
    "strKfold = StratifiedKFold(n_splits=5, random_state=42, shuffle=True)\n",
    "for k in range(1, 51):\n",
    "    correct = 0\n",
    "    total = 0\n",
    "    arr_ans = []\n",
    "    for train_indices, test_indices in strKfold.split(X, y):\n",
    "        X_train, X_test, y_train, y_test = X[train_indices], X[test_indices], \\\n",
    "                                            y[train_indices], y[test_indices]\n",
    "        model = KNeighborsClassifier(n_neighbors=k).fit(X_train, y_train)\n",
    "        y_pred = model.predict(X_test)\n",
    "        arr_ans.append(np.mean(y_pred == y_test))\n",
    "    strKfold_list.append(np.mean(arr_ans))\n",
    "print(f'Наилучшая точность кроссвалидации StratifiedKFold при k = {np.argmax(strKfold_list) + 1}, accuracy = {np.max(strKfold_list)}')"
   ]
  },
  {
   "cell_type": "markdown",
   "id": "c7943d50",
   "metadata": {},
   "source": [
    "Мы посчитали точность для каждой кроссвалидации двумя разными способами, видим что они совпали.\n",
    "\n",
    "Наилучший результат достигается при кроссвалидации Leave One Out для классификатора kNN при k = 1."
   ]
  },
  {
   "cell_type": "markdown",
   "id": "7505170a",
   "metadata": {},
   "source": [
    "Произведем масштабирование, посмотрим что изменится в этом случае"
   ]
  },
  {
   "cell_type": "code",
   "execution_count": 38,
   "id": "e776cf5f",
   "metadata": {},
   "outputs": [
    {
     "data": {
      "text/plain": [
       "array([[ 1.51861254, -0.5622498 ,  0.23205254, ...,  0.36217728,\n",
       "         1.84791957,  1.01300893],\n",
       "       [ 0.24628963, -0.49941338, -0.82799632, ...,  0.40605066,\n",
       "         1.1134493 ,  0.96524152],\n",
       "       [ 0.19687903,  0.02123125,  1.10933436, ...,  0.31830389,\n",
       "         0.78858745,  1.39514818],\n",
       "       ...,\n",
       "       [ 0.33275817,  1.74474449, -0.38935541, ..., -1.61212515,\n",
       "        -1.48544548,  0.28057537],\n",
       "       [ 0.20923168,  0.22769377,  0.01273209, ..., -1.56825176,\n",
       "        -1.40069891,  0.29649784],\n",
       "       [ 1.39508604,  1.58316512,  1.36520822, ..., -1.52437837,\n",
       "        -1.42894777, -0.59516041]])"
      ]
     },
     "execution_count": 38,
     "metadata": {},
     "output_type": "execute_result"
    }
   ],
   "source": [
    "from sklearn.preprocessing import StandardScaler\n",
    "X_scale = StandardScaler().fit_transform(X)\n",
    "X_scale"
   ]
  },
  {
   "cell_type": "markdown",
   "id": "2f3c58f9",
   "metadata": {},
   "source": [
    "# KFold, StandardScaler"
   ]
  },
  {
   "cell_type": "code",
   "execution_count": 39,
   "id": "1b817730",
   "metadata": {},
   "outputs": [
    {
     "name": "stdout",
     "output_type": "stream",
     "text": [
      "Наилучшая точность кроссвалидации Kfold при k = 29, accuracy = 0.9776190476190475\n"
     ]
    }
   ],
   "source": [
    "kfold_list = []\n",
    "kfold_cv = KFold(n_splits=5, random_state=42, shuffle=True)\n",
    "for k in range(1, 51):\n",
    "    model = KNeighborsClassifier(n_neighbors=k)\n",
    "    scores = cross_val_score(model, X_scale, y, cv=kfold_cv)\n",
    "    kfold_list.append(np.mean(scores))\n",
    "print(f'Наилучшая точность кроссвалидации Kfold при k = {np.argmax(kfold_list) + 1}, accuracy = {np.max(kfold_list)}')"
   ]
  },
  {
   "cell_type": "code",
   "execution_count": 40,
   "id": "d687c498",
   "metadata": {},
   "outputs": [
    {
     "name": "stdout",
     "output_type": "stream",
     "text": [
      "Наилучшая точность кроссвалидации Kfold при k = 29, accuracy = 0.9776190476190475\n"
     ]
    }
   ],
   "source": [
    "kfold_list = []\n",
    "kfold_cv = KFold(n_splits=5, random_state=42, shuffle=True)\n",
    "for k in range(1, 51):\n",
    "    correct = 0\n",
    "    total = 0\n",
    "    arr_ans = []\n",
    "    for train_indices, test_indices in kfold_cv.split(X):\n",
    "        X_train, X_test, y_train, y_test = X_scale[train_indices], X_scale[test_indices], \\\n",
    "                                            y[train_indices], y[test_indices]\n",
    "        model = KNeighborsClassifier(n_neighbors=k).fit(X_train, y_train)\n",
    "        y_pred = model.predict(X_test)\n",
    "        arr_ans.append(np.mean(y_pred == y_test))\n",
    "    kfold_list.append(np.mean(arr_ans))\n",
    "print(f'Наилучшая точность кроссвалидации Kfold при k = {np.argmax(kfold_list) + 1}, accuracy = {np.max(kfold_list)}')"
   ]
  },
  {
   "cell_type": "markdown",
   "id": "656d4628",
   "metadata": {},
   "source": [
    "# Leave One Out, StandardScaler"
   ]
  },
  {
   "cell_type": "code",
   "execution_count": 41,
   "id": "2a435356",
   "metadata": {},
   "outputs": [
    {
     "name": "stdout",
     "output_type": "stream",
     "text": [
      "Наилучшая точность кроссвалидации LeaveOneOut при k = 36, accuracy = 0.9831460674157303\n"
     ]
    }
   ],
   "source": [
    "loocv_list = []\n",
    "loocv = LeaveOneOut()\n",
    "for k in range(1, 51):\n",
    "    model = KNeighborsClassifier(n_neighbors=k)\n",
    "    scores = cross_val_score(model, X_scale, y, cv=loocv)\n",
    "    loocv_list.append(np.mean(scores))\n",
    "print(f'Наилучшая точность кроссвалидации LeaveOneOut при k = {np.argmax(loocv_list) + 1}, accuracy = {np.max(loocv_list)}')"
   ]
  },
  {
   "cell_type": "code",
   "execution_count": 42,
   "id": "5a4cd2ba",
   "metadata": {},
   "outputs": [
    {
     "name": "stdout",
     "output_type": "stream",
     "text": [
      "Наилучшая точность кроссвалидации LeaveOneOut при k = 36, accuracy = 0.9831460674157303\n"
     ]
    }
   ],
   "source": [
    "loocv_list = []\n",
    "loocv = LeaveOneOut()\n",
    "for k in range(1, 51):\n",
    "    correct = 0\n",
    "    total = 0\n",
    "    arr_ans = []\n",
    "    for train_indices, test_indices in loocv.split(X):\n",
    "        X_train, X_test, y_train, y_test = X_scale[train_indices], X_scale[test_indices], \\\n",
    "                                            y[train_indices], y[test_indices]\n",
    "        model = KNeighborsClassifier(n_neighbors=k).fit(X_train, y_train)\n",
    "        y_pred = model.predict(X_test)\n",
    "        arr_ans.append(np.mean(y_pred == y_test))\n",
    "    loocv_list.append(np.mean(arr_ans))\n",
    "print(f'Наилучшая точность кроссвалидации LeaveOneOut при k = {np.argmax(loocv_list) + 1}, accuracy = {np.max(loocv_list)}')"
   ]
  },
  {
   "cell_type": "markdown",
   "id": "28e0360f",
   "metadata": {},
   "source": [
    "# Stratified KFold, StandardScaler"
   ]
  },
  {
   "cell_type": "code",
   "execution_count": 43,
   "id": "7a2107ce",
   "metadata": {},
   "outputs": [
    {
     "name": "stdout",
     "output_type": "stream",
     "text": [
      "Наилучшая точность кроссвалидации StratifiedKFold при k = 13, accuracy = 0.9776190476190475\n"
     ]
    }
   ],
   "source": [
    "strKfold_list = []\n",
    "strKfold = StratifiedKFold(n_splits=5, random_state=42, shuffle=True)\n",
    "for k in range(1, 51):\n",
    "    model = KNeighborsClassifier(n_neighbors=k)\n",
    "    scores = cross_val_score(model, X_scale, y, cv=strKfold)\n",
    "    strKfold_list.append(np.mean(scores))\n",
    "print(f'Наилучшая точность кроссвалидации StratifiedKFold при k = {np.argmax(strKfold_list) + 1}, accuracy = {np.max(strKfold_list)}')"
   ]
  },
  {
   "cell_type": "code",
   "execution_count": 44,
   "id": "15c3a01c",
   "metadata": {},
   "outputs": [
    {
     "name": "stdout",
     "output_type": "stream",
     "text": [
      "Наилучшая точность кроссвалидации StratifiedKFold при k = 13, accuracy = 0.9776190476190475\n"
     ]
    }
   ],
   "source": [
    "strKfold_list = []\n",
    "strKfold = StratifiedKFold(n_splits=5, random_state=42, shuffle=True)\n",
    "for k in range(1, 51):\n",
    "    correct = 0\n",
    "    total = 0\n",
    "    arr_ans = []\n",
    "    for train_indices, test_indices in strKfold.split(X, y):\n",
    "        X_train, X_test, y_train, y_test = X_scale[train_indices], X_scale[test_indices], \\\n",
    "                                            y[train_indices], y[test_indices]\n",
    "        model = KNeighborsClassifier(n_neighbors=k).fit(X_train, y_train)\n",
    "        y_pred = model.predict(X_test)\n",
    "        arr_ans.append(np.mean(y_pred == y_test))\n",
    "    strKfold_list.append(np.mean(arr_ans))\n",
    "print(f'Наилучшая точность кроссвалидации StratifiedKFold при k = {np.argmax(strKfold_list) + 1}, accuracy = {np.max(strKfold_list)}')"
   ]
  },
  {
   "cell_type": "code",
   "execution_count": 45,
   "id": "6caadcb8",
   "metadata": {},
   "outputs": [
    {
     "name": "stdout",
     "output_type": "stream",
     "text": [
      "-3.6791622340370145 4.371372139554767\n",
      "0.13 1680.0\n"
     ]
    }
   ],
   "source": [
    "print(np.min(X_scale), np.max(X_scale))\n",
    "print(np.min(X), np.max(X))"
   ]
  },
  {
   "cell_type": "markdown",
   "id": "9a3db80b",
   "metadata": {},
   "source": [
    "После масштабирования признаки лежат в интервале \\[-3.68, 4.38\\], до масштабирования - \\[0.13, 1680\\].\n",
    "Таким образом мы уменьшили разброс признаков - свели признаки к одному диапозону. Этот шаг был очень важен, так как в kNN необходимо учитывать расстояние между объектами, а изначальные значения признаков сильно искажали модель, поэтому мы и получили более плохие результаты в первом случае.\n",
    "\n",
    "Во втором случае на каждой из кроссвалидаций модель показала более 97% точности. Наилучший показатель демонстрируется на кроссвалидации Leave One Out при k = 36, accuracy = 0.98.\n",
    "\n",
    "При этом заметим, что оптимальный метод валидации не изменился, но параметр k в kNN увеличился на 35."
   ]
  }
 ],
 "metadata": {
  "kernelspec": {
   "display_name": "Python 3 (ipykernel)",
   "language": "python",
   "name": "python3"
  },
  "language_info": {
   "codemirror_mode": {
    "name": "ipython",
    "version": 3
   },
   "file_extension": ".py",
   "mimetype": "text/x-python",
   "name": "python",
   "nbconvert_exporter": "python",
   "pygments_lexer": "ipython3",
   "version": "3.11.1"
  }
 },
 "nbformat": 4,
 "nbformat_minor": 5
}
